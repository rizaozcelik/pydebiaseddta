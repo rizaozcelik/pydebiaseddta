{
 "cells": [
  {
   "attachments": {},
   "cell_type": "markdown",
   "metadata": {},
   "source": [
    "This notebook examines the use of various hyperparameters pertaining to guides, predictors, or the debiased training process."
   ]
  },
  {
   "cell_type": "code",
   "execution_count": null,
   "metadata": {},
   "outputs": [],
   "source": [
    "import os\n",
    "os.environ['TF_CPP_MIN_LOG_LEVEL'] = '3'\n",
    "import warnings\n",
    "warnings.simplefilter(action='ignore', category=FutureWarning)\n",
    "\n",
    "from pydebiaseddta.guides import BoWDTA, IDDTA\n",
    "from pydebiaseddta.debiasing import DebiasedDTA\n",
    "from pydebiaseddta.predictors import DeepDTA, BPEDTA, LMDTA\n",
    "from pydebiaseddta.utils import load_sample_dta_data\n",
    "from pydebiaseddta.evaluation import evaluate_predictions\n",
    "\n",
    "guides = [BoWDTA, IDDTA]\n",
    "predictors = [DeepDTA, BPEDTA]\n",
    "train_ligands, train_proteins, train_labels = load_sample_dta_data(mini=True)[\"train\"]\n",
    "test_ligands, test_proteins, test_labels = load_sample_dta_data(mini=True)[\"test\"]"
   ]
  },
  {
   "cell_type": "code",
   "execution_count": 2,
   "metadata": {},
   "outputs": [
    {
     "name": "stdout",
     "output_type": "stream",
     "text": [
      "BoWDTA DeepDTA\n",
      "1/1 [==============================] - 0s 1ms/step - loss: 32.5918 - mean_squared_error: 32.5918\n",
      "1/1 [==============================] - 0s 604us/step - loss: 42.8252 - mean_squared_error: 30.4498\n",
      "{'train': {'mae': [5.376427, 4.969446], 'mse': [30.473136, 26.256895], 'r2': [-18.421735, -15.734558]}, 'val_splits': {'cold_both': {'mae': [5.148385, 4.741596], 'mse': [26.797692, 22.774888], 'r2': [-90.656661, -76.897386]}}}\n",
      "BoWDTA BPEDTA\n",
      "1/1 [==============================] - 0s 602us/step - loss: 32.6011 - mean_squared_error: 32.6011\n",
      "1/1 [==============================] - 0s 668us/step - loss: 43.0771 - mean_squared_error: 30.6801\n",
      "{'train': {'mae': [5.397292, 5.025335], 'mse': [30.696363, 26.802896], 'r2': [-18.564006, -16.082546]}, 'val_splits': {'cold_both': {'mae': [5.171109, 4.812014], 'mse': [27.032222, 23.450272], 'r2': [-91.458828, -79.207416]}}}\n",
      "IDDTA DeepDTA\n",
      "1/1 [==============================] - 0s 566us/step - loss: 32.5918 - mean_squared_error: 32.5918\n",
      "1/1 [==============================] - 0s 564us/step - loss: 45.7621 - mean_squared_error: 30.4498\n",
      "{'train': {'mae': [5.376427, 4.971248], 'mse': [30.473136, 26.274572], 'r2': [-18.421735, -15.745824]}, 'val_splits': {'cold_both': {'mae': [5.148385, 4.743513], 'mse': [26.797692, 22.792888], 'r2': [-90.656661, -76.958952]}}}\n",
      "IDDTA BPEDTA\n",
      "1/1 [==============================] - 0s 593us/step - loss: 32.6011 - mean_squared_error: 32.6011\n",
      "1/1 [==============================] - 0s 591us/step - loss: 46.0269 - mean_squared_error: 30.6801\n",
      "{'train': {'mae': [5.397292, 5.026908], 'mse': [30.696363, 26.818357], 'r2': [-18.564006, -16.0924]}, 'val_splits': {'cold_both': {'mae': [5.171109, 4.814146], 'mse': [27.032222, 23.470198], 'r2': [-91.458828, -79.275569]}}}\n"
     ]
    }
   ],
   "source": [
    "for guide in guides:\n",
    "    for predictor in predictors:\n",
    "        print(guide.__name__, predictor.__name__)\n",
    "        debiaseddta = DebiasedDTA(guide, predictor, predictor_params={\"n_epochs\": 2})\n",
    "        train_hist = debiaseddta.train(train_ligands,\n",
    "                                       train_proteins,\n",
    "                                       train_labels,\n",
    "                                       val_splits = {\"cold_both\": [test_ligands, test_proteins, test_labels]},\n",
    "                                       metrics_tracked=[\"mae\", \"mse\", \"r2\"])\n",
    "        print(train_hist)\n",
    "        preds = debiaseddta.predictor_instance.predict(test_ligands, test_proteins)\n",
    "        scores = evaluate_predictions(test_labels, preds, metrics=[\"ci\", \"mse\", \"r2\", \"mae\", \"rmse\"])   "
   ]
  },
  {
   "cell_type": "code",
   "execution_count": 8,
   "metadata": {},
   "outputs": [
    {
     "name": "stdout",
     "output_type": "stream",
     "text": [
      "1/1 [==============================] - 0s 600us/step - loss: 32.5918 - mean_squared_error: 32.5918\n",
      "1/1 [==============================] - 0s 692us/step - loss: 30.6973 - mean_squared_error: 30.4498\n",
      "1/1 [==============================] - 0s 600us/step - loss: 26.6515 - mean_squared_error: 26.1808\n",
      "1/1 [==============================] - 0s 587us/step - loss: 18.5668 - mean_squared_error: 17.9445\n",
      "1/1 [==============================] - 0s 612us/step - loss: 6.7354 - mean_squared_error: 6.1460\n",
      "1/1 [==============================] - 0s 678us/step - loss: 5.0490 - mean_squared_error: 4.9618\n",
      "1/1 [==============================] - 0s 674us/step - loss: 8.4145 - mean_squared_error: 8.4854\n",
      "1/1 [==============================] - 0s 587us/step - loss: 2.6302 - mean_squared_error: 2.3102\n",
      "1/1 [==============================] - 0s 706us/step - loss: 2.7188 - mean_squared_error: 1.9611\n",
      "1/1 [==============================] - 0s 583us/step - loss: 4.7154 - mean_squared_error: 3.6392\n",
      "1/1 [==============================] - 0s 684us/step - loss: 5.8366 - mean_squared_error: 4.5311\n",
      "1/1 [==============================] - 0s 603us/step - loss: 5.2359 - mean_squared_error: 3.8783\n",
      "1/1 [==============================] - 0s 573us/step - loss: 3.4404 - mean_squared_error: 2.2860\n",
      "1/1 [==============================] - 0s 598us/step - loss: 2.1663 - mean_squared_error: 1.2752\n",
      "1/1 [==============================] - 0s 587us/step - loss: 2.5751 - mean_squared_error: 2.1159\n",
      "1/1 [==============================] - 0s 676us/step - loss: 3.9893 - mean_squared_error: 3.8157\n",
      "1/1 [==============================] - 0s 578us/step - loss: 3.8281 - mean_squared_error: 3.6067\n",
      "1/1 [==============================] - 0s 645us/step - loss: 2.3132 - mean_squared_error: 1.8652\n",
      "1/1 [==============================] - 0s 580us/step - loss: 2.1315 - mean_squared_error: 1.1565\n",
      "1/1 [==============================] - 0s 588us/step - loss: 2.6825 - mean_squared_error: 1.3973\n",
      "1/1 [==============================] - 0s 582us/step - loss: 2.8980 - mean_squared_error: 1.5921\n",
      "1/1 [==============================] - 0s 693us/step - loss: 3.0037 - mean_squared_error: 1.5563\n",
      "Early stopping due to no increase to mae in val_set split for 3 epochs.\n",
      "Retrieved the saved best model.\n",
      "MAE in val_set for last 5 epochs: [0.630919, 0.417429, 0.494799, 0.47176, 0.453359]\n",
      "MAE in val_set in the final model: 0.4174285904109863\n"
     ]
    }
   ],
   "source": [
    "debiaseddta = DebiasedDTA(BoWDTA, DeepDTA, predictor_params={\n",
    "    \"n_epochs\": 100,\n",
    "    \"model_folder\": \"./temp/\",\n",
    "    \"early_stopping_metric\": \"mae\",\n",
    "    \"early_stopping_num_epochs\": 3,\n",
    "    \"early_stopping_split\": \"val_set\",\n",
    "    \"min_epochs\": 15,\n",
    "    \"optimizer\": \"adam\"})\n",
    "train_hist = debiaseddta.train(train_ligands,\n",
    "                                train_proteins,\n",
    "                                train_labels,\n",
    "                                val_splits = {\"val_set\": [test_ligands, test_proteins, test_labels]},\n",
    "                                metrics_tracked=[\"mae\", \"mse\", \"r2\"])\n",
    "preds = debiaseddta.predictor_instance.predict(test_ligands, test_proteins)\n",
    "scores = evaluate_predictions(test_labels, preds, metrics=[\"ci\", \"mse\", \"r2\", \"mae\", \"rmse\"])   \n",
    "print(\"MAE in val_set for last 5 epochs:\", train_hist[\"val_splits\"][\"val_set\"][\"mae\"][-5:])\n",
    "print(\"MAE in val_set in the final model:\", scores[\"mae\"])"
   ]
  },
  {
   "cell_type": "code",
   "execution_count": 9,
   "metadata": {},
   "outputs": [
    {
     "name": "stdout",
     "output_type": "stream",
     "text": [
      "1/1 [==============================] - 0s 685us/step - loss: 32.6011 - mean_squared_error: 32.6011\n",
      "1/1 [==============================] - 0s 580us/step - loss: 14.6855 - mean_squared_error: 14.4536\n",
      "1/1 [==============================] - 0s 567us/step - loss: 22.2789 - mean_squared_error: 22.4903\n",
      "1/1 [==============================] - 0s 577us/step - loss: 24.1686 - mean_squared_error: 23.3384\n",
      "1/1 [==============================] - 0s 610us/step - loss: 15.4972 - mean_squared_error: 14.5655\n",
      "1/1 [==============================] - 0s 581us/step - loss: 9.1820 - mean_squared_error: 8.2284\n",
      "1/1 [==============================] - 0s 609us/step - loss: 3.9720 - mean_squared_error: 3.1572\n",
      "1/1 [==============================] - 0s 585us/step - loss: 2.1554 - mean_squared_error: 1.6775\n",
      "Early stopping training due to convergence on the train split.\n",
      "MSE in train split for last 5 epochs: [14.559056, 8.229033, 3.157013, 1.702, 1.57221]\n",
      "MSE in train split in the final model: 1.572210015864044\n"
     ]
    }
   ],
   "source": [
    "debiaseddta = DebiasedDTA(IDDTA, BPEDTA, predictor_params={\n",
    "    \"n_epochs\": 100,\n",
    "    \"model_folder\": \"./temp/\",\n",
    "    \"early_stopping_metric\": \"mse\",\n",
    "    \"early_stopping_metric_threshold\": 1.6,\n",
    "    \"early_stopping_split\": \"train\",\n",
    "    \"optimizer\": \"sgd\",\n",
    "    \"learning_rate\": 0.1})\n",
    "train_hist = debiaseddta.train(train_ligands,\n",
    "                                train_proteins,\n",
    "                                train_labels,\n",
    "                                val_splits = {\"val_set\": [test_ligands, test_proteins, test_labels]},\n",
    "                                metrics_tracked=[\"mae\", \"mse\", \"r2\"])\n",
    "preds = debiaseddta.predictor_instance.predict(train_ligands, train_proteins)\n",
    "scores = evaluate_predictions(train_labels, preds, metrics=[\"ci\", \"mse\", \"r2\", \"mae\", \"rmse\"])    \n",
    "print(\"MSE in train split for last 5 epochs:\", train_hist[\"train\"][\"mse\"][-5:])\n",
    "print(\"MSE in train split in the final model:\", scores[\"mse\"])"
   ]
  },
  {
   "cell_type": "code",
   "execution_count": 10,
   "metadata": {},
   "outputs": [
    {
     "name": "stdout",
     "output_type": "stream",
     "text": [
      "1/1 [==============================] - 0s 633us/step - loss: 32.6011 - mean_squared_error: 32.6011\n",
      "1/1 [==============================] - 0s 677us/step - loss: 33.0350 - mean_squared_error: 30.6801\n",
      "1/1 [==============================] - 0s 580us/step - loss: 31.2346 - mean_squared_error: 26.7319\n",
      "1/1 [==============================] - 0s 551us/step - loss: 25.1098 - mean_squared_error: 19.0757\n",
      "1/1 [==============================] - 0s 693us/step - loss: 13.6545 - mean_squared_error: 7.7268\n",
      "1/1 [==============================] - 0s 703us/step - loss: 4.6020 - mean_squared_error: 2.1562\n",
      "1/1 [==============================] - 0s 623us/step - loss: 24.9241 - mean_squared_error: 29.6532\n",
      "1/1 [==============================] - 0s 593us/step - loss: 8.7597 - mean_squared_error: 10.2796\n",
      "1/1 [==============================] - 0s 647us/step - loss: 3.8194 - mean_squared_error: 1.4572\n",
      "1/1 [==============================] - 0s 671us/step - loss: 7.3133 - mean_squared_error: 1.6780\n"
     ]
    }
   ],
   "source": [
    "debiaseddta = DebiasedDTA(BoWDTA, BPEDTA, predictor_params={\"n_epochs\": 10}, guide_params={\n",
    "    \"max_depth\": 4,\n",
    "    \"min_samples_split\": 5,\n",
    "    \"min_samples_leaf\": 3,\n",
    "    \"ligand_vector_mode\": \"freq\",\n",
    "    \"prot_vector_mode\": \"binary\",\n",
    "    \"vocab_size\": \"low\",\n",
    "    \"criterion\": \"poisson\",\n",
    "    \"input_rank\": 10,\n",
    "})\n",
    "train_hist = debiaseddta.train(train_ligands, train_proteins, train_labels, metrics_tracked=[\"mae\", \"mse\", \"r2\"])\n",
    "preds = debiaseddta.predictor_instance.predict(test_ligands, test_proteins)\n",
    "scores = evaluate_predictions(test_labels, preds, metrics=[\"ci\", \"mse\", \"r2\", \"mae\", \"rmse\"])   "
   ]
  },
  {
   "cell_type": "code",
   "execution_count": 11,
   "metadata": {},
   "outputs": [
    {
     "name": "stdout",
     "output_type": "stream",
     "text": [
      "1/1 [==============================] - 0s 731us/step - loss: 32.6011 - mean_squared_error: 32.6011\n",
      "1/1 [==============================] - 0s 605us/step - loss: 31.3423 - mean_squared_error: 30.6801\n",
      "1/1 [==============================] - 0s 582us/step - loss: 27.9697 - mean_squared_error: 26.7270\n",
      "1/1 [==============================] - 0s 731us/step - loss: 20.6351 - mean_squared_error: 19.0375\n"
     ]
    }
   ],
   "source": [
    "debiaseddta = DebiasedDTA(IDDTA,\n",
    "                          BPEDTA,\n",
    "                          predictor_params={\"n_epochs\": 4},\n",
    "                          guide_error_exponent=1,\n",
    "                          weight_tempering_num_epochs=5,\n",
    "                          weight_temperature=2,\n",
    "                          weight_prior=0.01,\n",
    "                          weight_rank_based=True\n",
    "                          )\n",
    "train_hist = debiaseddta.train(train_ligands,\n",
    "                               train_proteins,\n",
    "                               train_labels,\n",
    "                               metrics_tracked=[\"mae\", \"mse\", \"r2\"],\n",
    "                               weights_save_path=\"./temp/exp.coef\")\n",
    "preds = debiaseddta.predictor_instance.predict(test_ligands, test_proteins)\n",
    "scores = evaluate_predictions(test_labels, preds, metrics=[\"ci\", \"mse\", \"r2\", \"mae\", \"rmse\"])   "
   ]
  },
  {
   "cell_type": "code",
   "execution_count": 12,
   "metadata": {},
   "outputs": [
    {
     "name": "stdout",
     "output_type": "stream",
     "text": [
      "1/1 [==============================] - 0s 592us/step - loss: 32.6011 - mean_squared_error: 32.6011\n",
      "1/1 [==============================] - 0s 693us/step - loss: 30.5766 - mean_squared_error: 30.6801\n",
      "1/1 [==============================] - 0s 679us/step - loss: 26.5248 - mean_squared_error: 26.7250\n",
      "1/1 [==============================] - 0s 655us/step - loss: 18.7288 - mean_squared_error: 19.0206\n"
     ]
    }
   ],
   "source": [
    "debiaseddta = DebiasedDTA(BoWDTA,\n",
    "                          BPEDTA,\n",
    "                          predictor_params={\"n_epochs\": 4},\n",
    "                          guide_error_exponent=1,\n",
    "                          weight_tempering_num_epochs=5,\n",
    "                          weight_temperature=2,\n",
    "                          weight_prior=0.01,\n",
    "                          weight_rank_based=True\n",
    "                          )\n",
    "train_hist = debiaseddta.train(train_ligands,\n",
    "                               train_proteins,\n",
    "                               train_labels,\n",
    "                               metrics_tracked=[\"mae\", \"mse\", \"r2\"],\n",
    "                               weights_load_path=\"./temp/exp.coef\")\n",
    "preds = debiaseddta.predictor_instance.predict(test_ligands, test_proteins)\n",
    "scores = evaluate_predictions(test_labels, preds, metrics=[\"ci\", \"mse\", \"r2\", \"mae\", \"rmse\"])   "
   ]
  }
 ],
 "metadata": {
  "kernelspec": {
   "display_name": "ddtf",
   "language": "python",
   "name": "python3"
  },
  "language_info": {
   "codemirror_mode": {
    "name": "ipython",
    "version": 3
   },
   "file_extension": ".py",
   "mimetype": "text/x-python",
   "name": "python",
   "nbconvert_exporter": "python",
   "pygments_lexer": "ipython3",
   "version": "3.8.13"
  },
  "orig_nbformat": 4
 },
 "nbformat": 4,
 "nbformat_minor": 2
}
