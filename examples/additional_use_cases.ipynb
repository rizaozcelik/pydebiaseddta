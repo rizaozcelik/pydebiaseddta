{
 "cells": [
  {
   "attachments": {},
   "cell_type": "markdown",
   "metadata": {},
   "source": [
    "# Examples of Additional Use Cases in `pydebiaseddta`"
   ]
  },
  {
   "attachments": {},
   "cell_type": "markdown",
   "metadata": {},
   "source": [
    "This notebook examines the use of various additional experimental settings pertaining to guides, predictors, or the debiased training process. For a practical yet comprehensive introduction to `pydebiaseddta` please see the notebook `quickstart.ipynb`. This notebook complements `quickstart.ipynb` by providing short examples of other experimental scenarios that the user might be interested in."
   ]
  },
  {
   "cell_type": "code",
   "execution_count": 1,
   "metadata": {},
   "outputs": [],
   "source": [
    "import warnings\n",
    "warnings.simplefilter(action='ignore', category=FutureWarning)\n",
    "from pydebiaseddta.guides import BoWDTA, IDDTA, RFDTA, OutDTA\n",
    "from pydebiaseddta.debiasing import DebiasedDTA\n",
    "from pydebiaseddta.predictors import DeepDTA, BPEDTA, LMDTA\n",
    "from pydebiaseddta.utils import load_sample_dta_data, load_sample_prot_sim_matrix\n",
    "from pydebiaseddta.evaluation import evaluate_predictions\n",
    "\n",
    "train_ligands, train_proteins, train_labels = load_sample_dta_data(mini=True, split=\"train\")\n",
    "val_ligands, val_proteins, val_labels = load_sample_dta_data(mini=True, split=\"val\")\n",
    "test_ligands, test_proteins, test_labels = load_sample_dta_data(mini=True, split=\"test\")"
   ]
  },
  {
   "attachments": {},
   "cell_type": "markdown",
   "metadata": {},
   "source": [
    "Training with various guides and predictors."
   ]
  },
  {
   "cell_type": "code",
   "execution_count": 2,
   "metadata": {},
   "outputs": [
    {
     "name": "stdout",
     "output_type": "stream",
     "text": [
      "BoWDTA DeepDTA\n",
      "Guide training started.\n",
      "Guide training completed in 00:00:13.\n",
      "Predictor training started.\n"
     ]
    },
    {
     "name": "stderr",
     "output_type": "stream",
     "text": [
      "100%|██████████| 2/2 [00:02<00:00,  1.47s/it]\n"
     ]
    },
    {
     "name": "stdout",
     "output_type": "stream",
     "text": [
      "Predictor training completed in 00:00:03.\n",
      "{'train': {'mae': [11.408992, 10.997201], 'mse': [130.574375, 121.345531], 'r2': [-317.706598, -295.180791]}, 'val_splits': {'cold_both': {'mae': [11.618738, 11.209242], 'mse': [135.346634, 126.000854], 'r2': [-386.14832, -359.415457]}}}\n",
      "BoWDTA BPEDTA\n",
      "Guide training started.\n",
      "Guide training completed in 00:00:14.\n",
      "Predictor training started.\n"
     ]
    },
    {
     "name": "stderr",
     "output_type": "stream",
     "text": [
      "100%|██████████| 2/2 [00:01<00:00,  1.50it/s]\n"
     ]
    },
    {
     "name": "stdout",
     "output_type": "stream",
     "text": [
      "Predictor training completed in 00:00:01.\n",
      "{'train': {'mae': [11.427759, 11.050064], 'mse': [131.003118, 122.509018], 'r2': [-318.753078, -298.020635]}, 'val_splits': {'cold_both': {'mae': [11.64573, 11.306248], 'mse': [135.972875, 128.180762], 'r2': [-387.93963, -365.650908]}}}\n",
      "IDDTA DeepDTA\n",
      "Guide training started.\n",
      "Guide training completed in 00:00:00.\n",
      "Predictor training started.\n"
     ]
    },
    {
     "name": "stderr",
     "output_type": "stream",
     "text": [
      "100%|██████████| 2/2 [00:01<00:00,  1.73it/s]\n"
     ]
    },
    {
     "name": "stdout",
     "output_type": "stream",
     "text": [
      "Predictor training completed in 00:00:01.\n",
      "{'train': {'mae': [11.408992, 10.997054], 'mse': [130.574375, 121.342341], 'r2': [-317.706598, -295.173004]}, 'val_splits': {'cold_both': {'mae': [11.618738, 11.209118], 'mse': [135.346634, 125.998048], 'r2': [-386.14832, -359.40743]}}}\n",
      "IDDTA BPEDTA\n",
      "Guide training started.\n",
      "Guide training completed in 00:00:00.\n",
      "Predictor training started.\n"
     ]
    },
    {
     "name": "stderr",
     "output_type": "stream",
     "text": [
      "100%|██████████| 2/2 [00:01<00:00,  1.40it/s]"
     ]
    },
    {
     "name": "stdout",
     "output_type": "stream",
     "text": [
      "Predictor training completed in 00:00:02.\n",
      "{'train': {'mae': [11.427759, 11.0496], 'mse': [131.003118, 122.498378], 'r2': [-318.753078, -297.994663]}, 'val_splits': {'cold_both': {'mae': [11.64573, 11.305969], 'mse': [135.972875, 128.174522], 'r2': [-387.93963, -365.633062]}}}\n"
     ]
    },
    {
     "name": "stderr",
     "output_type": "stream",
     "text": [
      "\n"
     ]
    }
   ],
   "source": [
    "for guide in [BoWDTA, IDDTA]:\n",
    "    for predictor in [DeepDTA, BPEDTA]:\n",
    "        print(guide.__name__, predictor.__name__)\n",
    "        debiaseddta = DebiasedDTA(guide, predictor, predictor_params={\"n_epochs\": 2})\n",
    "        train_hist = debiaseddta.train(train_ligands,\n",
    "                                       train_proteins,\n",
    "                                       train_labels,\n",
    "                                       val_splits = {\"cold_both\": [test_ligands, test_proteins, test_labels]},\n",
    "                                       metrics_tracked=[\"mae\", \"mse\", \"r2\"])\n",
    "        print(train_hist)\n",
    "        preds = debiaseddta.predictor_instance.predict(test_ligands, test_proteins)\n",
    "        scores = evaluate_predictions(test_labels, preds, metrics=[\"ci\", \"mse\", \"r2\", \"mae\", \"rmse\"])   "
   ]
  },
  {
   "attachments": {},
   "cell_type": "markdown",
   "metadata": {},
   "source": [
    "## Training using various non-default predictor hyperparameters"
   ]
  },
  {
   "attachments": {},
   "cell_type": "markdown",
   "metadata": {},
   "source": [
    "Early stopping based on validation overfitting, also providing a minimum number of epochs before which early stopping cannot commence:"
   ]
  },
  {
   "cell_type": "code",
   "execution_count": 5,
   "metadata": {},
   "outputs": [
    {
     "name": "stdout",
     "output_type": "stream",
     "text": [
      "Guide training started.\n",
      "Guide training completed in 00:00:13.\n",
      "Predictor training started.\n"
     ]
    },
    {
     "name": "stderr",
     "output_type": "stream",
     "text": [
      " 18%|█▊        | 18/100 [00:05<00:25,  3.19it/s]"
     ]
    },
    {
     "name": "stdout",
     "output_type": "stream",
     "text": [
      "Early stopping due to no increase to mae in val_set split for 3 epochs.\n",
      "No save folder provided, using the final model.\n",
      "Predictor training completed in 00:00:06.\n",
      "MAE in val_set for last 5 epochs: [1.726252, 0.547368, 2.167525, 3.041101, 2.48041]\n",
      "MAE in val_set in the final model: 2.48041038985376\n"
     ]
    },
    {
     "name": "stderr",
     "output_type": "stream",
     "text": [
      "\n"
     ]
    }
   ],
   "source": [
    "debiaseddta = DebiasedDTA(BoWDTA, DeepDTA, predictor_params={\n",
    "    \"n_epochs\": 100,\n",
    "    \"early_stopping_metric\": \"mae\",\n",
    "    \"early_stopping_num_epochs\": 3,\n",
    "    \"early_stopping_split\": \"val_set\",\n",
    "    \"min_epochs\": 15,\n",
    "    \"optimizer\": \"adam\"})\n",
    "train_hist = debiaseddta.train(train_ligands,\n",
    "                                train_proteins,\n",
    "                                train_labels,\n",
    "                                val_splits = {\"val_set\": [test_ligands, test_proteins, test_labels]},\n",
    "                                metrics_tracked=[\"mae\", \"mse\", \"r2\"])\n",
    "preds = debiaseddta.predictor_instance.predict(test_ligands, test_proteins)\n",
    "scores = evaluate_predictions(test_labels, preds, metrics=[\"ci\", \"mse\", \"r2\", \"mae\", \"rmse\"])   \n",
    "print(\"MAE in val_set for last 5 epochs:\", train_hist[\"val_splits\"][\"val_set\"][\"mae\"][-5:])\n",
    "print(\"MAE in val_set in the final model:\", scores[\"mae\"])"
   ]
  },
  {
   "attachments": {},
   "cell_type": "markdown",
   "metadata": {},
   "source": [
    "Early stopping based on training convergence (based on predefined error levels). Also using vanilla SGD instead of Adam as optimizer:"
   ]
  },
  {
   "cell_type": "code",
   "execution_count": 12,
   "metadata": {},
   "outputs": [
    {
     "name": "stdout",
     "output_type": "stream",
     "text": [
      "Guide training started.\n",
      "Guide training completed in 00:00:00.\n",
      "Predictor training started.\n"
     ]
    },
    {
     "name": "stderr",
     "output_type": "stream",
     "text": [
      "  4%|▍         | 4/100 [00:02<00:55,  1.74it/s]"
     ]
    },
    {
     "name": "stdout",
     "output_type": "stream",
     "text": [
      "Early stopping training due to convergence on the train split.\n",
      "Predictor training completed in 00:00:02.\n",
      "MSE in train split for last 5 epochs: [125.573093, 113.278748, 95.360722, 59.67571, 1.216261]\n",
      "MSE in train split in the final model: 1.2162609036893124\n"
     ]
    },
    {
     "name": "stderr",
     "output_type": "stream",
     "text": [
      "\n"
     ]
    }
   ],
   "source": [
    "debiaseddta = DebiasedDTA(IDDTA, BPEDTA, predictor_params={\n",
    "    \"n_epochs\": 100,\n",
    "    \"model_folder\": \"./temp/\",\n",
    "    \"early_stopping_metric\": \"mse\",\n",
    "    \"early_stopping_metric_threshold\": 1.6,\n",
    "    \"early_stopping_split\": \"train\",\n",
    "    \"optimizer\": \"sgd\",\n",
    "    \"learning_rate\": 0.01})\n",
    "train_hist = debiaseddta.train(train_ligands,\n",
    "                                train_proteins,\n",
    "                                train_labels,\n",
    "                                val_splits = {\"val_set\": [test_ligands, test_proteins, test_labels]},\n",
    "                                metrics_tracked=[\"mae\", \"mse\", \"r2\"])\n",
    "preds = debiaseddta.predictor_instance.predict(train_ligands, train_proteins)\n",
    "scores = evaluate_predictions(train_labels, preds, metrics=[\"ci\", \"mse\", \"r2\", \"mae\", \"rmse\"])    \n",
    "print(\"MSE in train split for last 5 epochs:\", train_hist[\"train\"][\"mse\"][-5:])\n",
    "print(\"MSE in train split in the final model:\", scores[\"mse\"])"
   ]
  },
  {
   "attachments": {},
   "cell_type": "markdown",
   "metadata": {},
   "source": [
    "## Training using various non-default predictor hyperparameters"
   ]
  },
  {
   "attachments": {},
   "cell_type": "markdown",
   "metadata": {},
   "source": [
    "`max_depth`, `min_samples_split`, and `min_samples_leaf` allows limiting the complexity of the decision tree based guide models (`BoWDTA`, `IDDTA`, `RFDTA`). The parameters `ligand_vector_mode` and `prot_vector_mode` determine how bag-of-words representation is converted to an embedding vector. `vocab_size` is another hyperparameter that allows the complexity of the representations that these guides can use as input. `criterion` is the loss function the regressor will use, and `input_rank` allows further simplification of guide's input by replacing the matrix representation of input with a low-rank appraximation."
   ]
  },
  {
   "cell_type": "code",
   "execution_count": 13,
   "metadata": {},
   "outputs": [
    {
     "name": "stdout",
     "output_type": "stream",
     "text": [
      "Guide training started.\n",
      "Guide training completed in 00:00:08.\n",
      "Predictor training started.\n"
     ]
    },
    {
     "name": "stderr",
     "output_type": "stream",
     "text": [
      "100%|██████████| 10/10 [00:03<00:00,  3.28it/s]"
     ]
    },
    {
     "name": "stdout",
     "output_type": "stream",
     "text": [
      "Predictor training completed in 00:00:03.\n"
     ]
    },
    {
     "name": "stderr",
     "output_type": "stream",
     "text": [
      "\n"
     ]
    }
   ],
   "source": [
    "debiaseddta = DebiasedDTA(BoWDTA, BPEDTA, predictor_params={\"n_epochs\": 10}, guide_params={\n",
    "    \"max_depth\": 4,\n",
    "    \"min_samples_split\": 5,\n",
    "    \"min_samples_leaf\": 3,\n",
    "    \"ligand_vector_mode\": \"freq\",\n",
    "    \"prot_vector_mode\": \"binary\",\n",
    "    \"vocab_size\": \"low\",\n",
    "    \"criterion\": \"poisson\",\n",
    "    \"input_rank\": 10,\n",
    "})\n",
    "train_hist = debiaseddta.train(train_ligands, train_proteins, train_labels, metrics_tracked=[\"mae\", \"mse\", \"r2\"])\n",
    "preds = debiaseddta.predictor_instance.predict(test_ligands, test_proteins)\n",
    "scores = evaluate_predictions(test_labels, preds, metrics=[\"ci\", \"mse\", \"r2\", \"mae\", \"rmse\"])   "
   ]
  },
  {
   "attachments": {},
   "cell_type": "markdown",
   "metadata": {},
   "source": [
    "## Training using various non-default hyperparameters for overall training"
   ]
  },
  {
   "attachments": {},
   "cell_type": "markdown",
   "metadata": {},
   "source": [
    "Here `guide_error_exponent` allows changing the exponent for computing the errors incurred by guide's predictions. `weight_temperature` is a temperature parameter that determines how far from uniform the computed importance weights will be. `weight_tempering_exponent` determines how quick the ``tempering'' process will be, that is, the lower this value is, the faster the weights will get closer to their final computed versions. The parameter `weight_tempering_num_epochs` controls the total number of epochs in which to transition to computed importance weights will be made. This is especially relevant when early stopping is desired. `weight_prior` adds the given ratio of the maximum importance weight to all importance weights to prevent extreme sparsity. Lastly, `weight_rank_based` sets the importance weights to the percentile ranks of the errors of training inputs. This allows the errors arising from observation noise to have an uncalled for effect on importance weights."
   ]
  },
  {
   "cell_type": "code",
   "execution_count": 14,
   "metadata": {},
   "outputs": [
    {
     "name": "stdout",
     "output_type": "stream",
     "text": [
      "Guide training started.\n",
      "Saved importance weights to ./temp/additional_experiments/importance_weights.coef.\n",
      "Guide training completed in 00:00:00.\n",
      "Predictor training started.\n"
     ]
    },
    {
     "name": "stderr",
     "output_type": "stream",
     "text": [
      "100%|██████████| 4/4 [00:01<00:00,  2.37it/s]\n"
     ]
    },
    {
     "name": "stdout",
     "output_type": "stream",
     "text": [
      "Saved predictor to the folder ./temp/additional_experiments.\n",
      "Predictor training completed in 00:00:03.\n"
     ]
    }
   ],
   "source": [
    "debiaseddta = DebiasedDTA(IDDTA,\n",
    "                          BPEDTA,\n",
    "                          predictor_params={\"n_epochs\": 4},\n",
    "                          guide_error_exponent=1,\n",
    "                          weight_tempering_exponent=0.5,\n",
    "                          weight_tempering_num_epochs=5,\n",
    "                          weight_temperature=2,\n",
    "                          weight_prior=0.01,\n",
    "                          weight_rank_based=True\n",
    "                          )\n",
    "train_hist = debiaseddta.train(train_ligands,\n",
    "                               train_proteins,\n",
    "                               train_labels,\n",
    "                               metrics_tracked=[\"mae\", \"mse\", \"r2\"],\n",
    "                               weights_save_path=\"./temp/additional_experiments/importance_weights.coef\",\n",
    "                               predictor_save_folder=\"./temp/additional_experiments\")\n",
    "preds = debiaseddta.predictor_instance.predict(test_ligands, test_proteins)\n",
    "scores = evaluate_predictions(test_labels, preds, metrics=[\"ci\", \"mse\", \"r2\", \"mae\", \"rmse\"])   "
   ]
  },
  {
   "attachments": {},
   "cell_type": "markdown",
   "metadata": {},
   "source": [
    "## Other scenarios"
   ]
  },
  {
   "attachments": {},
   "cell_type": "markdown",
   "metadata": {},
   "source": [
    "We can train using pre-computed and saved importance weights, in which case importance weight-related hyperparameters are ignored, except tempering related ones."
   ]
  },
  {
   "cell_type": "code",
   "execution_count": 15,
   "metadata": {},
   "outputs": [
    {
     "name": "stdout",
     "output_type": "stream",
     "text": [
      "Loading existing importance weights from ./temp/additional_experiments/importance_weights.coef.\n",
      "Predictor training started.\n"
     ]
    },
    {
     "name": "stderr",
     "output_type": "stream",
     "text": [
      "100%|██████████| 4/4 [00:01<00:00,  2.45it/s]"
     ]
    },
    {
     "name": "stdout",
     "output_type": "stream",
     "text": [
      "Predictor training completed in 00:00:02.\n"
     ]
    },
    {
     "name": "stderr",
     "output_type": "stream",
     "text": [
      "\n"
     ]
    }
   ],
   "source": [
    "debiaseddta = DebiasedDTA(BoWDTA,\n",
    "                          BPEDTA,\n",
    "                          predictor_params={\"n_epochs\": 4},\n",
    "                          weight_tempering_exponent=0.5,\n",
    "                          weight_tempering_num_epochs=5,\n",
    "                          )\n",
    "train_hist = debiaseddta.train(train_ligands,\n",
    "                               train_proteins,\n",
    "                               train_labels,\n",
    "                               metrics_tracked=[\"mae\", \"mse\", \"r2\"],\n",
    "                               weights_load_path=\"./temp/additional_experiments/importance_weights.coef\")\n",
    "preds = debiaseddta.predictor_instance.predict(test_ligands, test_proteins)\n",
    "scores = evaluate_predictions(test_labels, preds, metrics=[\"ci\", \"mse\", \"r2\", \"mae\", \"rmse\"])   "
   ]
  },
  {
   "attachments": {},
   "cell_type": "markdown",
   "metadata": {},
   "source": [
    "We can also load a pre-trained predictor to obtain DTA predictions. "
   ]
  },
  {
   "cell_type": "code",
   "execution_count": 16,
   "metadata": {},
   "outputs": [
    {
     "name": "stdout",
     "output_type": "stream",
     "text": [
      "{'ci': 0.5454545454545454, 'mse': 83.31641735482603, 'r2': -237.32000781048507, 'mae': 9.108696908997254, 'rmse': 9.127782718427627}\n"
     ]
    }
   ],
   "source": [
    "predictor = BPEDTA.from_file(\"./temp/additional_experiments\")\n",
    "preds = predictor.predict(test_ligands, test_proteins)\n",
    "scores = evaluate_predictions(test_labels, preds, metrics=[\"ci\", \"mse\", \"r2\", \"mae\", \"rmse\"]) \n",
    "print(scores)"
   ]
  },
  {
   "attachments": {},
   "cell_type": "markdown",
   "metadata": {},
   "source": [
    "We can also feed this to a DebiasedDTA object to conduct additional training of the said model."
   ]
  },
  {
   "cell_type": "code",
   "execution_count": 17,
   "metadata": {},
   "outputs": [
    {
     "name": "stdout",
     "output_type": "stream",
     "text": [
      "No guide model specified, proceeding with uniform weights.\n",
      "Loading a pretrained predictor.\n",
      "New hyperparameters used for the pretrained predictor, any saved hyperparamaters are ignored.\n",
      "Predictor training started.\n"
     ]
    },
    {
     "name": "stderr",
     "output_type": "stream",
     "text": [
      "100%|██████████| 4/4 [00:01<00:00,  2.41it/s]"
     ]
    },
    {
     "name": "stdout",
     "output_type": "stream",
     "text": [
      "Predictor training completed in 00:00:02.\n"
     ]
    },
    {
     "name": "stderr",
     "output_type": "stream",
     "text": [
      "\n"
     ]
    }
   ],
   "source": [
    "debiaseddta = DebiasedDTA(None,\n",
    "                          BPEDTA,\n",
    "                          predictor_params={\"n_epochs\": 4},\n",
    "                          weight_tempering_exponent=0.5,\n",
    "                          weight_tempering_num_epochs=5,\n",
    "                          )\n",
    "train_hist = debiaseddta.train(train_ligands,\n",
    "                               train_proteins,\n",
    "                               train_labels,\n",
    "                               metrics_tracked=[\"mae\", \"mse\", \"r2\"],\n",
    "                               predictor_load_folder=\"./temp/additional_experiments\")\n",
    "preds = debiaseddta.predictor_instance.predict(test_ligands, test_proteins)\n",
    "scores = evaluate_predictions(test_labels, preds, metrics=[\"ci\", \"mse\", \"r2\", \"mae\", \"rmse\"])   "
   ]
  },
  {
   "attachments": {},
   "cell_type": "markdown",
   "metadata": {},
   "source": [
    "Using `RFDTA` for training."
   ]
  },
  {
   "cell_type": "code",
   "execution_count": 18,
   "metadata": {},
   "outputs": [
    {
     "name": "stdout",
     "output_type": "stream",
     "text": [
      "Guide training started.\n",
      "Guide training completed in 00:00:00.\n",
      "Predictor training started.\n"
     ]
    },
    {
     "name": "stderr",
     "output_type": "stream",
     "text": [
      "100%|██████████| 6/6 [00:02<00:00,  2.71it/s]"
     ]
    },
    {
     "name": "stdout",
     "output_type": "stream",
     "text": [
      "Predictor training completed in 00:00:02.\n"
     ]
    },
    {
     "name": "stderr",
     "output_type": "stream",
     "text": [
      "\n"
     ]
    }
   ],
   "source": [
    "debiaseddta = DebiasedDTA(RFDTA,\n",
    "                          BPEDTA,\n",
    "                          predictor_params={\"n_epochs\": 6},\n",
    "                          guide_params={\"max_depth\": 3, \"num_trees\": 100})\n",
    "train_hist = debiaseddta.train(train_ligands, train_proteins, train_labels, metrics_tracked=[\"mae\", \"mse\", \"r2\"])\n",
    "preds = debiaseddta.predictor_instance.predict(test_ligands, test_proteins)\n",
    "scores = evaluate_predictions(test_labels, preds, metrics=[\"ci\", \"mse\", \"r2\", \"mae\", \"rmse\"])   "
   ]
  },
  {
   "attachments": {},
   "cell_type": "markdown",
   "metadata": {},
   "source": [
    "Using `OutDTA` for training with inverse frequency."
   ]
  },
  {
   "cell_type": "code",
   "execution_count": 2,
   "metadata": {},
   "outputs": [
    {
     "name": "stdout",
     "output_type": "stream",
     "text": [
      "Guide training started.\n",
      "Guide training completed in 00:00:00.\n",
      "Predictor training started.\n"
     ]
    },
    {
     "name": "stderr",
     "output_type": "stream",
     "text": [
      "100%|██████████| 6/6 [00:03<00:00,  1.61it/s]"
     ]
    },
    {
     "name": "stdout",
     "output_type": "stream",
     "text": [
      "Predictor training completed in 00:00:04.\n"
     ]
    },
    {
     "name": "stderr",
     "output_type": "stream",
     "text": [
      "\n"
     ]
    }
   ],
   "source": [
    "debiaseddta = DebiasedDTA(OutDTA,\n",
    "                          DeepDTA,\n",
    "                          predictor_params={\"n_epochs\": 6},\n",
    "                          guide_params={\"df\": load_sample_dta_data(mini=True)[\"train\"], \"rarity_indicator\": \"inv_frequency\"})\n",
    "train_hist = debiaseddta.train(train_ligands, train_proteins, train_labels, metrics_tracked=[\"mae\", \"mse\", \"r2\"])\n",
    "preds = debiaseddta.predictor_instance.predict(test_ligands, test_proteins)\n",
    "scores = evaluate_predictions(test_labels, preds, metrics=[\"ci\", \"mse\", \"r2\", \"mae\", \"rmse\"])   "
   ]
  },
  {
   "attachments": {},
   "cell_type": "markdown",
   "metadata": {},
   "source": [
    "Using `OutDTA` for training with average distance."
   ]
  },
  {
   "cell_type": "code",
   "execution_count": 3,
   "metadata": {},
   "outputs": [
    {
     "name": "stdout",
     "output_type": "stream",
     "text": [
      "Guide training started.\n",
      "Guide training completed in 00:00:00.\n",
      "Predictor training started.\n"
     ]
    },
    {
     "name": "stderr",
     "output_type": "stream",
     "text": [
      "100%|██████████| 6/6 [00:01<00:00,  3.04it/s]"
     ]
    },
    {
     "name": "stdout",
     "output_type": "stream",
     "text": [
      "Predictor training completed in 00:00:02.\n"
     ]
    },
    {
     "name": "stderr",
     "output_type": "stream",
     "text": [
      "\n"
     ]
    }
   ],
   "source": [
    "debiaseddta = DebiasedDTA(OutDTA,\n",
    "                          DeepDTA,\n",
    "                          predictor_params={\"n_epochs\": 6},\n",
    "                          guide_params={\n",
    "                              \"df\": load_sample_dta_data(mini=True)[\"train\"],\n",
    "                              \"rarity_indicator\": \"avg_distance\",\n",
    "                              \"prot_sim_matrix\": load_sample_prot_sim_matrix(),\n",
    "                              })\n",
    "train_hist = debiaseddta.train(train_ligands, train_proteins, train_labels, metrics_tracked=[\"mae\", \"mse\", \"r2\"])\n",
    "preds = debiaseddta.predictor_instance.predict(test_ligands, test_proteins)\n",
    "scores = evaluate_predictions(test_labels, preds, metrics=[\"ci\", \"mse\", \"r2\", \"mae\", \"rmse\"])   "
   ]
  },
  {
   "attachments": {},
   "cell_type": "markdown",
   "metadata": {},
   "source": [
    "Using an early-stopped `DeepDTA` as a guide."
   ]
  },
  {
   "cell_type": "code",
   "execution_count": 5,
   "metadata": {},
   "outputs": [
    {
     "name": "stdout",
     "output_type": "stream",
     "text": [
      "Guide training started.\n",
      "Using predictor DeepDTA as guide.\n"
     ]
    },
    {
     "name": "stderr",
     "output_type": "stream",
     "text": [
      "100%|██████████| 3/3 [00:01<00:00,  2.25it/s]\n"
     ]
    },
    {
     "name": "stdout",
     "output_type": "stream",
     "text": [
      "Guide training completed in 00:00:02.\n",
      "Predictor training started.\n"
     ]
    },
    {
     "name": "stderr",
     "output_type": "stream",
     "text": [
      "100%|██████████| 6/6 [00:02<00:00,  2.89it/s]"
     ]
    },
    {
     "name": "stdout",
     "output_type": "stream",
     "text": [
      "Predictor training completed in 00:00:02.\n"
     ]
    },
    {
     "name": "stderr",
     "output_type": "stream",
     "text": [
      "\n"
     ]
    }
   ],
   "source": [
    "debiaseddta = DebiasedDTA(DeepDTA,\n",
    "                          DeepDTA,\n",
    "                          guide_params={\n",
    "                              \"n_epochs\": 3,\n",
    "                              },\n",
    "                          predictor_params={\"n_epochs\": 6},)\n",
    "train_hist = debiaseddta.train(train_ligands, train_proteins, train_labels, metrics_tracked=[\"mae\", \"mse\", \"r2\"])\n",
    "preds = debiaseddta.predictor_instance.predict(test_ligands, test_proteins)\n",
    "scores = evaluate_predictions(test_labels, preds, metrics=[\"ci\", \"mse\", \"r2\", \"mae\", \"rmse\"])   "
   ]
  },
  {
   "attachments": {},
   "cell_type": "markdown",
   "metadata": {},
   "source": [
    "Using `BoWDTA` as predictor with no guides."
   ]
  },
  {
   "cell_type": "code",
   "execution_count": 6,
   "metadata": {},
   "outputs": [
    {
     "name": "stdout",
     "output_type": "stream",
     "text": [
      "No guide model specified, proceeding with uniform weights.\n",
      "Predictor training started.\n",
      "Predictor training completed in 00:00:00.\n",
      "{'ci': 0.29545454545454547, 'mse': 0.5963057059340608, 'r2': -0.7056852059591168, 'mae': 0.6645587399470578, 'rmse': 0.7722083306556987}\n"
     ]
    }
   ],
   "source": [
    "debiaseddta = DebiasedDTA(None,\n",
    "                          BoWDTA,\n",
    "                          predictor_params={\"max_depth\": 3},\n",
    "                          )\n",
    "train_hist = debiaseddta.train(train_ligands, train_proteins, train_labels, metrics_tracked=[\"mae\", \"mse\", \"r2\"])\n",
    "preds = debiaseddta.predictor_instance.predict(test_ligands, test_proteins)\n",
    "scores = evaluate_predictions(test_labels, preds, metrics=[\"ci\", \"mse\", \"r2\", \"mae\", \"rmse\"]) \n",
    "print(scores)"
   ]
  },
  {
   "attachments": {},
   "cell_type": "markdown",
   "metadata": {},
   "source": [
    "Creating and using a custom predictor model by extending the `Predictor` class:"
   ]
  },
  {
   "cell_type": "code",
   "execution_count": 25,
   "metadata": {},
   "outputs": [
    {
     "name": "stdout",
     "output_type": "stream",
     "text": [
      "Guide training started.\n",
      "Guide training completed in 00:00:00.\n",
      "Predictor training started.\n",
      "Predictor training completed in 00:00:00.\n",
      "{'ci': 0.5, 'mse': 0.3936561283845659, 'r2': -0.12602215229338376, 'mae': 0.5579790632750005, 'rmse': 0.6274202167483655}\n"
     ]
    }
   ],
   "source": [
    "import numpy as np\n",
    "from pydebiaseddta.predictors import Predictor\n",
    "\n",
    "class AveragePredictor(Predictor):\n",
    "    def __init__(self, n_epochs, **kwargs):\n",
    "        self.n_epochs = n_epochs\n",
    "\n",
    "    def train(self, train_ligands, train_proteins, train_labels, sample_weights_by_epoch, **kwargs):\n",
    "        self.prediction = np.array(train_labels).mean()\n",
    "    \n",
    "    def predict(self, ligands, proteins, **kwargs):\n",
    "        return np.ones(len(ligands)) * self.prediction\n",
    "\n",
    "train_ligands, train_proteins, train_labels = load_sample_dta_data(mini=True, split=\"train\")\n",
    "test_ligands, test_proteins, test_labels = load_sample_dta_data(mini=True, split=\"test\")\n",
    "debiaseddta = DebiasedDTA(IDDTA, AveragePredictor, predictor_params={'n_epochs': 1})\n",
    "debiaseddta.train(train_ligands, train_proteins, train_labels)\n",
    "preds = debiaseddta.predictor_instance.predict(test_ligands, test_proteins)\n",
    "scores = evaluate_predictions(test_labels, preds, metrics=[\"ci\", \"mse\", \"r2\", \"mae\", \"rmse\"]) \n",
    "print(scores)"
   ]
  },
  {
   "attachments": {},
   "cell_type": "markdown",
   "metadata": {},
   "source": [
    "Please see the documentation of the specific modules for further details on functionalities provided by `pydebiaseddta`, and see the associated paper for in-depth discussions regarding the implications of the choices examined here."
   ]
  }
 ],
 "metadata": {
  "kernelspec": {
   "display_name": "ddtf",
   "language": "python",
   "name": "python3"
  },
  "language_info": {
   "codemirror_mode": {
    "name": "ipython",
    "version": 3
   },
   "file_extension": ".py",
   "mimetype": "text/x-python",
   "name": "python",
   "nbconvert_exporter": "python",
   "pygments_lexer": "ipython3",
   "version": "3.9.7"
  },
  "orig_nbformat": 4
 },
 "nbformat": 4,
 "nbformat_minor": 2
}
